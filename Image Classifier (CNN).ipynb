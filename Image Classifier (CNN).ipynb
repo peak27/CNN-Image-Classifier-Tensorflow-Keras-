{
 "cells": [
  {
   "cell_type": "markdown",
   "metadata": {
    "colab_type": "text",
    "id": "3DR-eO17geWu"
   },
   "source": [
    "# Convolutional Neural Network"
   ]
  },
  {
   "cell_type": "markdown",
   "metadata": {
    "colab_type": "text",
    "id": "EMefrVPCg-60"
   },
   "source": [
    "### Importing the libraries"
   ]
  },
  {
   "cell_type": "code",
   "execution_count": 1,
   "metadata": {
    "colab": {},
    "colab_type": "code",
    "id": "sCV30xyVhFbE"
   },
   "outputs": [
    {
     "name": "stderr",
     "output_type": "stream",
     "text": [
      "Using TensorFlow backend.\n"
     ]
    }
   ],
   "source": [
    "import tensorflow as tf\n",
    "from keras.preprocessing.image import ImageDataGenerator"
   ]
  },
  {
   "cell_type": "code",
   "execution_count": 2,
   "metadata": {
    "colab": {},
    "colab_type": "code",
    "id": "FIleuCAjoFD8"
   },
   "outputs": [
    {
     "data": {
      "text/plain": [
       "'2.3.1'"
      ]
     },
     "execution_count": 2,
     "metadata": {},
     "output_type": "execute_result"
    }
   ],
   "source": [
    "tf.__version__"
   ]
  },
  {
   "cell_type": "markdown",
   "metadata": {
    "colab_type": "text",
    "id": "oxQxCBWyoGPE"
   },
   "source": [
    "## Part 1 - Data Preprocessing"
   ]
  },
  {
   "cell_type": "markdown",
   "metadata": {
    "colab_type": "text",
    "id": "MvE-heJNo3GG"
   },
   "source": [
    "### Preprocessing the Training set"
   ]
  },
  {
   "cell_type": "code",
   "execution_count": 5,
   "metadata": {
    "colab": {},
    "colab_type": "code",
    "id": "0koUcJMJpEBD"
   },
   "outputs": [
    {
     "name": "stdout",
     "output_type": "stream",
     "text": [
      "Found 8000 images belonging to 2 classes.\n"
     ]
    }
   ],
   "source": [
    "train_datagen = ImageDataGenerator(rescale = 1./255,\n",
    "                                  shear_range = 0.2,\n",
    "                                  zoom_range = 0.2,\n",
    "                                  horizontal_flip = True)\n",
    "\n",
    "training_set = train_datagen.flow_from_directory('dataset/training_set',\n",
    "                                                target_size = (64, 64),\n",
    "                                                batch_size = 32,\n",
    "                                                class_mode = 'binary')"
   ]
  },
  {
   "cell_type": "markdown",
   "metadata": {
    "colab_type": "text",
    "id": "mrCMmGw9pHys"
   },
   "source": [
    "### Preprocessing the Test set"
   ]
  },
  {
   "cell_type": "code",
   "execution_count": 6,
   "metadata": {
    "colab": {},
    "colab_type": "code",
    "id": "SH4WzfOhpKc3"
   },
   "outputs": [
    {
     "name": "stdout",
     "output_type": "stream",
     "text": [
      "Found 2000 images belonging to 2 classes.\n"
     ]
    }
   ],
   "source": [
    "test_datagen = ImageDataGenerator(rescale = 1./255)\n",
    "test_set = test_datagen.flow_from_directory('dataset/test_set',\n",
    "                                           target_size = (64, 64),\n",
    "                                           batch_size = 32,\n",
    "                                           class_mode = 'binary')"
   ]
  },
  {
   "cell_type": "markdown",
   "metadata": {
    "colab_type": "text",
    "id": "af8O4l90gk7B"
   },
   "source": [
    "## Part 2 - Building the CNN"
   ]
  },
  {
   "cell_type": "markdown",
   "metadata": {
    "colab_type": "text",
    "id": "ces1gXY2lmoX"
   },
   "source": [
    "### Initialising the CNN"
   ]
  },
  {
   "cell_type": "code",
   "execution_count": 7,
   "metadata": {
    "colab": {},
    "colab_type": "code",
    "id": "SAUt4UMPlhLS"
   },
   "outputs": [],
   "source": [
    "cnn = tf.keras.models.Sequential()"
   ]
  },
  {
   "cell_type": "markdown",
   "metadata": {
    "colab_type": "text",
    "id": "u5YJj_XMl5LF"
   },
   "source": [
    "### Step 1 - Convolution"
   ]
  },
  {
   "cell_type": "code",
   "execution_count": 9,
   "metadata": {
    "colab": {},
    "colab_type": "code",
    "id": "XPzPrMckl-hV"
   },
   "outputs": [],
   "source": [
    "cnn.add(tf.keras.layers.Conv2D(filters = 32, kernel_size = 3, activation = 'relu', input_shape = (64, 64, 3)))"
   ]
  },
  {
   "cell_type": "markdown",
   "metadata": {
    "colab_type": "text",
    "id": "tf87FpvxmNOJ"
   },
   "source": [
    "### Step 2 - Pooling"
   ]
  },
  {
   "cell_type": "code",
   "execution_count": 11,
   "metadata": {
    "colab": {},
    "colab_type": "code",
    "id": "ncpqPl69mOac"
   },
   "outputs": [],
   "source": [
    "cnn.add(tf.keras.layers.MaxPool2D(pool_size = 2, strides = 2))"
   ]
  },
  {
   "cell_type": "markdown",
   "metadata": {
    "colab_type": "text",
    "id": "xaTOgD8rm4mU"
   },
   "source": [
    "### Adding a second convolutional layer"
   ]
  },
  {
   "cell_type": "code",
   "execution_count": 14,
   "metadata": {
    "colab": {},
    "colab_type": "code",
    "id": "i_-FZjn_m8gk"
   },
   "outputs": [],
   "source": [
    "cnn.add(tf.keras.layers.Conv2D(filters = 32, kernel_size = 3, activation = 'relu'))\n",
    "cnn.add(tf.keras.layers.MaxPool2D(pool_size = 2, strides = 3))"
   ]
  },
  {
   "cell_type": "markdown",
   "metadata": {
    "colab_type": "text",
    "id": "tmiEuvTunKfk"
   },
   "source": [
    "### Step 3 - Flattening"
   ]
  },
  {
   "cell_type": "code",
   "execution_count": 15,
   "metadata": {
    "colab": {},
    "colab_type": "code",
    "id": "6AZeOGCvnNZn"
   },
   "outputs": [],
   "source": [
    "cnn.add(tf.keras.layers.Flatten())"
   ]
  },
  {
   "cell_type": "markdown",
   "metadata": {
    "colab_type": "text",
    "id": "dAoSECOm203v"
   },
   "source": [
    "### Step 4 - Full Connection"
   ]
  },
  {
   "cell_type": "code",
   "execution_count": 16,
   "metadata": {
    "colab": {},
    "colab_type": "code",
    "id": "8GtmUlLd26Nq"
   },
   "outputs": [],
   "source": [
    "cnn.add(tf.keras.layers.Dense(units = 128, activation = 'relu'))"
   ]
  },
  {
   "cell_type": "markdown",
   "metadata": {
    "colab_type": "text",
    "id": "yTldFvbX28Na"
   },
   "source": [
    "### Step 5 - Output Layer"
   ]
  },
  {
   "cell_type": "code",
   "execution_count": 17,
   "metadata": {
    "colab": {},
    "colab_type": "code",
    "id": "1p_Zj1Mc3Ko_"
   },
   "outputs": [],
   "source": [
    "cnn.add(tf.keras.layers.Dense(units = 1, activation = 'sigmoid'))"
   ]
  },
  {
   "cell_type": "markdown",
   "metadata": {
    "colab_type": "text",
    "id": "D6XkI90snSDl"
   },
   "source": [
    "## Part 3 - Training the CNN"
   ]
  },
  {
   "cell_type": "markdown",
   "metadata": {
    "colab_type": "text",
    "id": "vfrFQACEnc6i"
   },
   "source": [
    "### Compiling the CNN"
   ]
  },
  {
   "cell_type": "code",
   "execution_count": 18,
   "metadata": {
    "colab": {},
    "colab_type": "code",
    "id": "NALksrNQpUlJ"
   },
   "outputs": [],
   "source": [
    "cnn.compile(optimizer = 'adam', loss = 'binary_crossentropy', metrics = ['accuracy'])"
   ]
  },
  {
   "cell_type": "markdown",
   "metadata": {
    "colab_type": "text",
    "id": "ehS-v3MIpX2h"
   },
   "source": [
    "### Training the CNN on the Training set and evaluating it on the Test set"
   ]
  },
  {
   "cell_type": "code",
   "execution_count": 19,
   "metadata": {
    "colab": {},
    "colab_type": "code",
    "id": "XUj1W4PJptta"
   },
   "outputs": [
    {
     "name": "stdout",
     "output_type": "stream",
     "text": [
      "Epoch 1/30\n",
      "250/250 [==============================] - 90s 361ms/step - loss: 0.6933 - accuracy: 0.5113 - val_loss: 0.6868 - val_accuracy: 0.5005\n",
      "Epoch 2/30\n",
      "250/250 [==============================] - 44s 175ms/step - loss: 0.6745 - accuracy: 0.5731 - val_loss: 0.6660 - val_accuracy: 0.5820\n",
      "Epoch 3/30\n",
      "250/250 [==============================] - 44s 176ms/step - loss: 0.6352 - accuracy: 0.6522 - val_loss: 0.5941 - val_accuracy: 0.6865\n",
      "Epoch 4/30\n",
      "250/250 [==============================] - 44s 177ms/step - loss: 0.5819 - accuracy: 0.6961 - val_loss: 0.5696 - val_accuracy: 0.7120\n",
      "Epoch 5/30\n",
      "250/250 [==============================] - 44s 178ms/step - loss: 0.5536 - accuracy: 0.7134 - val_loss: 0.5379 - val_accuracy: 0.7265\n",
      "Epoch 6/30\n",
      "250/250 [==============================] - 45s 180ms/step - loss: 0.5336 - accuracy: 0.7339 - val_loss: 0.5461 - val_accuracy: 0.7345\n",
      "Epoch 7/30\n",
      "250/250 [==============================] - 43s 171ms/step - loss: 0.5162 - accuracy: 0.7477 - val_loss: 0.4992 - val_accuracy: 0.7590\n",
      "Epoch 8/30\n",
      "250/250 [==============================] - 43s 172ms/step - loss: 0.4870 - accuracy: 0.7653 - val_loss: 0.5042 - val_accuracy: 0.7605\n",
      "Epoch 9/30\n",
      "250/250 [==============================] - 43s 174ms/step - loss: 0.4813 - accuracy: 0.7666 - val_loss: 0.4899 - val_accuracy: 0.7650\n",
      "Epoch 10/30\n",
      "250/250 [==============================] - 43s 174ms/step - loss: 0.4668 - accuracy: 0.7788 - val_loss: 0.5068 - val_accuracy: 0.7665\n",
      "Epoch 11/30\n",
      "250/250 [==============================] - 43s 174ms/step - loss: 0.4565 - accuracy: 0.7891 - val_loss: 0.4659 - val_accuracy: 0.7770\n",
      "Epoch 12/30\n",
      "250/250 [==============================] - 44s 175ms/step - loss: 0.4378 - accuracy: 0.7951 - val_loss: 0.4577 - val_accuracy: 0.7875\n",
      "Epoch 13/30\n",
      "250/250 [==============================] - 44s 177ms/step - loss: 0.4255 - accuracy: 0.8006 - val_loss: 0.4757 - val_accuracy: 0.7770\n",
      "Epoch 14/30\n",
      "250/250 [==============================] - 44s 176ms/step - loss: 0.4184 - accuracy: 0.8050 - val_loss: 0.4570 - val_accuracy: 0.7810\n",
      "Epoch 15/30\n",
      "250/250 [==============================] - 44s 176ms/step - loss: 0.4035 - accuracy: 0.8151 - val_loss: 0.4399 - val_accuracy: 0.7935\n",
      "Epoch 16/30\n",
      "250/250 [==============================] - 44s 176ms/step - loss: 0.3881 - accuracy: 0.8210 - val_loss: 0.4170 - val_accuracy: 0.8180\n",
      "Epoch 17/30\n",
      "250/250 [==============================] - 46s 184ms/step - loss: 0.3873 - accuracy: 0.8211 - val_loss: 0.4412 - val_accuracy: 0.7955\n",
      "Epoch 18/30\n",
      "250/250 [==============================] - 45s 178ms/step - loss: 0.3746 - accuracy: 0.8329 - val_loss: 0.4326 - val_accuracy: 0.8050\n",
      "Epoch 19/30\n",
      "250/250 [==============================] - 44s 176ms/step - loss: 0.3698 - accuracy: 0.8330 - val_loss: 0.5070 - val_accuracy: 0.7680\n",
      "Epoch 20/30\n",
      "250/250 [==============================] - 44s 177ms/step - loss: 0.3551 - accuracy: 0.8431 - val_loss: 0.4284 - val_accuracy: 0.8145\n",
      "Epoch 21/30\n",
      "250/250 [==============================] - 45s 181ms/step - loss: 0.3379 - accuracy: 0.8543 - val_loss: 0.4265 - val_accuracy: 0.8135\n",
      "Epoch 22/30\n",
      "250/250 [==============================] - 44s 176ms/step - loss: 0.3339 - accuracy: 0.8484 - val_loss: 0.4202 - val_accuracy: 0.8190\n",
      "Epoch 23/30\n",
      "250/250 [==============================] - 43s 173ms/step - loss: 0.3189 - accuracy: 0.8577 - val_loss: 0.4806 - val_accuracy: 0.8000\n",
      "Epoch 24/30\n",
      "250/250 [==============================] - 43s 173ms/step - loss: 0.3108 - accuracy: 0.8640 - val_loss: 0.4932 - val_accuracy: 0.7955\n",
      "Epoch 25/30\n",
      "250/250 [==============================] - 44s 175ms/step - loss: 0.3085 - accuracy: 0.8644 - val_loss: 0.4268 - val_accuracy: 0.8055\n",
      "Epoch 26/30\n",
      "250/250 [==============================] - 44s 174ms/step - loss: 0.2983 - accuracy: 0.8690 - val_loss: 0.4143 - val_accuracy: 0.8175\n",
      "Epoch 27/30\n",
      "250/250 [==============================] - 43s 174ms/step - loss: 0.2810 - accuracy: 0.8842 - val_loss: 0.4438 - val_accuracy: 0.8045\n",
      "Epoch 28/30\n",
      "250/250 [==============================] - 2379s 10s/step - loss: 0.2725 - accuracy: 0.8794 - val_loss: 0.4249 - val_accuracy: 0.8110\n",
      "Epoch 29/30\n",
      "250/250 [==============================] - 46s 184ms/step - loss: 0.2660 - accuracy: 0.8810 - val_loss: 0.4548 - val_accuracy: 0.8185\n",
      "Epoch 30/30\n",
      "250/250 [==============================] - 43s 171ms/step - loss: 0.2513 - accuracy: 0.8949 - val_loss: 0.4423 - val_accuracy: 0.8135\n"
     ]
    },
    {
     "data": {
      "text/plain": [
       "<tensorflow.python.keras.callbacks.History at 0x29b61cec348>"
      ]
     },
     "execution_count": 19,
     "metadata": {},
     "output_type": "execute_result"
    }
   ],
   "source": [
    "cnn.fit(x=training_set, validation_data=test_set, epochs = 30)"
   ]
  },
  {
   "cell_type": "markdown",
   "metadata": {
    "colab_type": "text",
    "id": "U3PZasO0006Z"
   },
   "source": [
    "## Part 4 - Making a single prediction"
   ]
  },
  {
   "cell_type": "code",
   "execution_count": 34,
   "metadata": {
    "colab": {},
    "colab_type": "code",
    "id": "gsSiWEJY1BPB"
   },
   "outputs": [],
   "source": [
    "import numpy as np\n",
    "from keras.preprocessing import image\n",
    "test_image = image.load_img('dataset/single_prediction/c3.jpg', target_size = (64, 64))\n",
    "test_image = image.img_to_array(test_image)\n",
    "test_image = np.expand_dims(test_image, axis = 0)\n",
    "result = cnn.predict(test_image)\n",
    "training_set.class_indices\n",
    "if result[0][0] == 1:\n",
    "    prediction = 'Dog'\n",
    "else:\n",
    "    prediction = 'Cat'"
   ]
  },
  {
   "cell_type": "code",
   "execution_count": 35,
   "metadata": {
    "colab": {},
    "colab_type": "code",
    "id": "ED9KB3I54c1i"
   },
   "outputs": [
    {
     "name": "stdout",
     "output_type": "stream",
     "text": [
      "Cat\n"
     ]
    }
   ],
   "source": [
    "print(prediction)"
   ]
  },
  {
   "cell_type": "code",
   "execution_count": null,
   "metadata": {},
   "outputs": [],
   "source": []
  }
 ],
 "metadata": {
  "colab": {
   "collapsed_sections": [],
   "name": "convolutional_neural_network.ipynb",
   "provenance": [],
   "toc_visible": true
  },
  "kernelspec": {
   "display_name": "Python 3",
   "language": "python",
   "name": "python3"
  },
  "language_info": {
   "codemirror_mode": {
    "name": "ipython",
    "version": 3
   },
   "file_extension": ".py",
   "mimetype": "text/x-python",
   "name": "python",
   "nbconvert_exporter": "python",
   "pygments_lexer": "ipython3",
   "version": "3.7.6"
  }
 },
 "nbformat": 4,
 "nbformat_minor": 1
}
